{
 "cells": [
  {
   "cell_type": "markdown",
   "metadata": {},
   "source": [
    "## Visión por Computadora 1\n",
    "\n",
    "## Trabajo Práctico N° 3\n",
    "\n",
    "### Grupo\n",
    "\n",
    "| Autores               | E-mail                    | Nº SIU  |\n",
    "|---------------------- |---------------------------|---------|\n",
    "| Braian Desía          | b.desia@hotmail.com       | a1804   |\n",
    "| Juan José Cardinali   | juanchijc@gmail.com       | a1809   |"
   ]
  },
  {
   "cell_type": "markdown",
   "metadata": {},
   "source": [
    "#### LIBRERÍAS"
   ]
  },
  {
   "cell_type": "code",
   "execution_count": 37,
   "metadata": {},
   "outputs": [],
   "source": [
    "import numpy as np\n",
    "import matplotlib.pyplot as plt\n",
    "import cv2 as cv"
   ]
  },
  {
   "cell_type": "markdown",
   "metadata": {},
   "source": [
    "### ENUNCIADO\n",
    "\n",
    "Encontrar el logotipo de la gaseosa dentro de las imágenes provistas en *Material_TPs/TP3/imagesa partir del templateMaterial_TPs/TP3/template*.\n",
    "\n",
    "1. (4puntos) Obtener una detección del logo en cada imagen sin falsos positivos.\n",
    "\n",
    "2. (4puntos) Plantear y validar un algoritmo para múltiples detecciones en la imagen *coca_multi.pngconelmismotémplatedelítem1*.\n",
    "\n",
    "3. (2puntos) Generalizar el algoritmo del item2 para todas las imágenes.\n",
    "\n",
    "Visualizar los resultados con bounding boxes en cada imagen mostrando el nivel de confianza de la detección."
   ]
  },
  {
   "cell_type": "markdown",
   "metadata": {},
   "source": [
    "### RESOLUCIÓN"
   ]
  }
 ],
 "metadata": {
  "kernelspec": {
   "display_name": "Python 3",
   "language": "python",
   "name": "python3"
  },
  "language_info": {
   "codemirror_mode": {
    "name": "ipython",
    "version": 3
   },
   "file_extension": ".py",
   "mimetype": "text/x-python",
   "name": "python",
   "nbconvert_exporter": "python",
   "pygments_lexer": "ipython3",
   "version": "3.11.3"
  }
 },
 "nbformat": 4,
 "nbformat_minor": 2
}
